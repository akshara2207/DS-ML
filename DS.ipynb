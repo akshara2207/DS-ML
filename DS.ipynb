{
  "nbformat": 4,
  "nbformat_minor": 0,
  "metadata": {
    "colab": {
      "provenance": [],
      "authorship_tag": "ABX9TyO+Zhf7MhurpDbc8l7AgtJ9",
      "include_colab_link": true
    },
    "kernelspec": {
      "name": "python3",
      "display_name": "Python 3"
    },
    "language_info": {
      "name": "python"
    }
  },
  "cells": [
    {
      "cell_type": "markdown",
      "metadata": {
        "id": "view-in-github",
        "colab_type": "text"
      },
      "source": [
        "<a href=\"https://colab.research.google.com/github/akshara2207/DS-ML/blob/main/DS.ipynb\" target=\"_parent\"><img src=\"https://colab.research.google.com/assets/colab-badge.svg\" alt=\"Open In Colab\"/></a>"
      ]
    },
    {
      "cell_type": "code",
      "execution_count": null,
      "metadata": {
        "colab": {
          "base_uri": "https://localhost:8080/"
        },
        "id": "n1rZPs5S17aB",
        "outputId": "32e9a226-b6f2-4f32-c4c1-3f0903fbb1fe"
      },
      "outputs": [
        {
          "output_type": "stream",
          "name": "stdout",
          "text": [
            "Example for broadcasting: \n",
            "v =  [1 2 3]\n",
            "w= [4 5]\n",
            "Outer product of above vectors: \n",
            "[[ 4  5]\n",
            " [ 8 10]\n",
            " [12 15]]\n",
            "x =  [[1 2 3]\n",
            " [4 5 6]]\n",
            "Resultant matrix after adding the vector x to each row of matrix v: \n",
            "[[2 4 6]\n",
            " [5 7 9]]\n",
            "Example for broadcasting fails: \n",
            "Adding the vector x to each column of matrix w will generate an error\n",
            "Solution: Reshape the matrix w then the result will be: \n",
            "[[ 5  6  7]\n",
            " [ 9 10 11]]\n"
          ]
        }
      ],
      "source": [
        "import numpy as np\n",
        "print(\"Example for broadcasting: \")\n",
        "v=np.array([1,2,3])\n",
        "w=np.array([4,5])\n",
        "print(\"v = \",v)\n",
        "print(\"w=\",w)\n",
        "print(\"Outer product of above vectors: \")\n",
        "print(np.reshape(v,(3,1))*w)\n",
        "x=np.array([[1,2,3],[4,5,6]])\n",
        "print(\"x = \",x)\n",
        "print(\"Resultant matrix after adding the vector x to each row of matrix v: \")\n",
        "print(x+v)\n",
        "print(\"Example for broadcasting fails: \")\n",
        "print(\"Adding the vector x to each column of matrix w will generate an error\")\n",
        "print(\"Solution: Reshape the matrix w then the result will be: \")\n",
        "print(x+np.reshape(w,(2,1)))"
      ]
    },
    {
      "cell_type": "markdown",
      "source": [],
      "metadata": {
        "id": "w1fCd07Y4w3j"
      }
    },
    {
      "cell_type": "code",
      "source": [
        "import numpy as np\n",
        "\n",
        "x = np.array([[1, 2], [3, 4]], dtype=np.float64)\n",
        "y = np.array([[6, 9], [4, 4]], dtype=np.float64)\n",
        "\n",
        "print(\"Element wise addition:\", np.add(x, x))\n",
        "print(\"x =\", x)\n",
        "print(\"y =\", y)\n",
        "print(\"Element wise subtraction:\", np.subtract(x, y))\n",
        "print(\"Element wise multiplication:\", np.multiply(x, y))\n",
        "print(\"Element wise square root of x:\", np.sqrt(x))\n",
        "print(\"Matrix multiplication:\", np.dot(x, y))\n",
        "print(\"Sum of all elements of matrix x:\", np.sum(x))\n",
        "print(\"Sum of elements in each column of matrix y:\", np.sum(y, axis=0))\n",
        "print(\"Sum of elements in each row of matrix y:\", np.sum(y, axis=1))\n",
        "print(\"Transpose of matrix x:\", x.T)"
      ],
      "metadata": {
        "id": "tfKBc32442eH",
        "colab": {
          "base_uri": "https://localhost:8080/"
        },
        "outputId": "5854db3b-b22a-4414-ca41-ba67f125e734"
      },
      "execution_count": 2,
      "outputs": [
        {
          "output_type": "stream",
          "name": "stdout",
          "text": [
            "Element wise addition: [[2. 4.]\n",
            " [6. 8.]]\n",
            "x = [[1. 2.]\n",
            " [3. 4.]]\n",
            "y = [[6. 9.]\n",
            " [4. 4.]]\n",
            "Element wise subtraction: [[-5. -7.]\n",
            " [-1.  0.]]\n",
            "Element wise multiplication: [[ 6. 18.]\n",
            " [12. 16.]]\n",
            "Element wise square root of x: [[1.         1.41421356]\n",
            " [1.73205081 2.        ]]\n",
            "Matrix multiplication: [[14. 17.]\n",
            " [34. 43.]]\n",
            "Sum of all elements of matrix x: 10.0\n",
            "Sum of elements in each column of matrix y: [10. 13.]\n",
            "Sum of elements in each row of matrix y: [15.  8.]\n",
            "Transpose of matrix x: [[1. 3.]\n",
            " [2. 4.]]\n"
          ]
        }
      ]
    }
  ]
}