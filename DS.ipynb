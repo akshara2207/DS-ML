{
  "nbformat": 4,
  "nbformat_minor": 0,
  "metadata": {
    "colab": {
      "provenance": [],
      "authorship_tag": "ABX9TyNsAKKdHKqDWF2th2DmuIiU",
      "include_colab_link": true
    },
    "kernelspec": {
      "name": "python3",
      "display_name": "Python 3"
    },
    "language_info": {
      "name": "python"
    }
  },
  "cells": [
    {
      "cell_type": "markdown",
      "metadata": {
        "id": "view-in-github",
        "colab_type": "text"
      },
      "source": [
        "<a href=\"https://colab.research.google.com/github/akshara2207/DS-ML/blob/main/DS.ipynb\" target=\"_parent\"><img src=\"https://colab.research.google.com/assets/colab-badge.svg\" alt=\"Open In Colab\"/></a>"
      ]
    },
    {
      "cell_type": "code",
      "execution_count": null,
      "metadata": {
        "colab": {
          "base_uri": "https://localhost:8080/"
        },
        "id": "n1rZPs5S17aB",
        "outputId": "32e9a226-b6f2-4f32-c4c1-3f0903fbb1fe"
      },
      "outputs": [
        {
          "output_type": "stream",
          "name": "stdout",
          "text": [
            "Example for broadcasting: \n",
            "v =  [1 2 3]\n",
            "w= [4 5]\n",
            "Outer product of above vectors: \n",
            "[[ 4  5]\n",
            " [ 8 10]\n",
            " [12 15]]\n",
            "x =  [[1 2 3]\n",
            " [4 5 6]]\n",
            "Resultant matrix after adding the vector x to each row of matrix v: \n",
            "[[2 4 6]\n",
            " [5 7 9]]\n",
            "Example for broadcasting fails: \n",
            "Adding the vector x to each column of matrix w will generate an error\n",
            "Solution: Reshape the matrix w then the result will be: \n",
            "[[ 5  6  7]\n",
            " [ 9 10 11]]\n"
          ]
        }
      ],
      "source": [
        "import numpy as np\n",
        "print(\"Example for broadcasting: \")\n",
        "v=np.array([1,2,3])\n",
        "w=np.array([4,5])\n",
        "print(\"v = \",v)\n",
        "print(\"w=\",w)\n",
        "print(\"Outer product of above vectors: \")\n",
        "print(np.reshape(v,(3,1))*w)\n",
        "x=np.array([[1,2,3],[4,5,6]])\n",
        "print(\"x = \",x)\n",
        "print(\"Resultant matrix after adding the vector x to each row of matrix v: \")\n",
        "print(x+v)\n",
        "print(\"Example for broadcasting fails: \")\n",
        "print(\"Adding the vector x to each column of matrix w will generate an error\")\n",
        "print(\"Solution: Reshape the matrix w then the result will be: \")\n",
        "print(x+np.reshape(w,(2,1)))"
      ]
    },
    {
      "cell_type": "markdown",
      "source": [],
      "metadata": {
        "id": "w1fCd07Y4w3j"
      }
    },
    {
      "cell_type": "code",
      "source": [
        "import numpy as np\n",
        "\n",
        "x = np.array([[1, 2], [3, 4]], dtype=np.float64)\n",
        "y = np.array([[6, 9], [4, 4]], dtype=np.float64)\n",
        "\n",
        "print(\"Element wise addition:\", np.add(x, x))\n",
        "print(\"x =\", x)\n",
        "print(\"y =\", y)\n",
        "print(\"Element wise subtraction:\", np.subtract(x, y))\n",
        "print(\"Element wise multiplication:\", np.multiply(x, y))\n",
        "print(\"Element wise square root of x:\", np.sqrt(x))\n",
        "print(\"Matrix multiplication:\", np.dot(x, y))\n",
        "print(\"Sum of all elements of matrix x:\", np.sum(x))\n",
        "print(\"Sum of elements in each column of matrix y:\", np.sum(y, axis=0))\n",
        "print(\"Sum of elements in each row of matrix y:\", np.sum(y, axis=1))\n",
        "print(\"Transpose of matrix x:\", x.T)"
      ],
      "metadata": {
        "id": "tfKBc32442eH",
        "colab": {
          "base_uri": "https://localhost:8080/"
        },
        "outputId": "5854db3b-b22a-4414-ca41-ba67f125e734"
      },
      "execution_count": 2,
      "outputs": [
        {
          "output_type": "stream",
          "name": "stdout",
          "text": [
            "Element wise addition: [[2. 4.]\n",
            " [6. 8.]]\n",
            "x = [[1. 2.]\n",
            " [3. 4.]]\n",
            "y = [[6. 9.]\n",
            " [4. 4.]]\n",
            "Element wise subtraction: [[-5. -7.]\n",
            " [-1.  0.]]\n",
            "Element wise multiplication: [[ 6. 18.]\n",
            " [12. 16.]]\n",
            "Element wise square root of x: [[1.         1.41421356]\n",
            " [1.73205081 2.        ]]\n",
            "Matrix multiplication: [[14. 17.]\n",
            " [34. 43.]]\n",
            "Sum of all elements of matrix x: 10.0\n",
            "Sum of elements in each column of matrix y: [10. 13.]\n",
            "Sum of elements in each row of matrix y: [15.  8.]\n",
            "Transpose of matrix x: [[1. 3.]\n",
            " [2. 4.]]\n"
          ]
        }
      ]
    },
    {
      "cell_type": "code",
      "source": [
        "import numpy as np\n",
        "\n",
        "print(\"Array indexing: slicing\")\n",
        "a1 = np.array([[1, 2, 3, 4], [5, 6, 7, 8], [9, 10, 11, 12]])\n",
        "print(\"a1 =\", a1)\n",
        "\n",
        "b = a1[:2, 1:3]\n",
        "print(\"Subarray consisting of the first two rows and columns 1 and 2:\", b)\n",
        "\n",
        "b = a1[1:2, :]\n",
        "print(\"Subarray consists of the second row:\", b)\n",
        "\n",
        "print(\"Accessing columns:\")\n",
        "c = a1[:, 1:2]\n",
        "print(c, c.shape)\n",
        "\n",
        "print(\"Array integer indexing:\")\n",
        "a2 = np.array([[1, 2], [3, 4], [5, 6]])\n",
        "print(\"a2 =\", a2)\n",
        "\n",
        "print(\"Example of array integer indexing:\", a2[[0, 1, 2], [0, 1, 0]])\n",
        "print(a2[[0, 0], [1, 1]])\n",
        "print(np.array([a2[0, 1], a2[0, 1]]))\n",
        "\n",
        "a3 = np.array([[1, 2, 3], [4, 5, 6], [7, 8, 9], [10, 11, 12]])\n",
        "print(\"a3 =\", a3)\n",
        "\n",
        "# Create an array of indices\n",
        "b = np.array([0, 2, 0, 1])\n",
        "print(\"b =\", b)\n",
        "\n",
        "print(\"Select one element from each row of a using the indices in b:\")\n",
        "print(\"a3 =\", a3[np.arange(4), b])\n",
        "\n",
        "a3[np.arange(4), b] += 10\n",
        "print(\"a3 =\", a3)\n",
        "\n",
        "print(\"Boolean array indexing:\")\n",
        "a = np.array([[1, 2], [3, 4], [5, 6]])\n",
        "print(\"a =\", a)\n",
        "\n",
        "bool_idx = (a > 2)\n",
        "print(\"Elements greater than 2:\", a[bool_idx])"
      ],
      "metadata": {
        "colab": {
          "base_uri": "https://localhost:8080/"
        },
        "id": "CP9hnvET7EP2",
        "outputId": "a7d086bc-a71e-416b-f123-597ff577a2f4"
      },
      "execution_count": 3,
      "outputs": [
        {
          "output_type": "stream",
          "name": "stdout",
          "text": [
            "Array indexing: slicing\n",
            "a1 = [[ 1  2  3  4]\n",
            " [ 5  6  7  8]\n",
            " [ 9 10 11 12]]\n",
            "Subarray consisting of the first two rows and columns 1 and 2: [[2 3]\n",
            " [6 7]]\n",
            "Subarray consists of the second row: [[5 6 7 8]]\n",
            "Accessing columns:\n",
            "[[ 2]\n",
            " [ 6]\n",
            " [10]] (3, 1)\n",
            "Array integer indexing:\n",
            "a2 = [[1 2]\n",
            " [3 4]\n",
            " [5 6]]\n",
            "Example of array integer indexing: [1 4 5]\n",
            "[2 2]\n",
            "[2 2]\n",
            "a3 = [[ 1  2  3]\n",
            " [ 4  5  6]\n",
            " [ 7  8  9]\n",
            " [10 11 12]]\n",
            "b = [0 2 0 1]\n",
            "Select one element from each row of a using the indices in b:\n",
            "a3 = [ 1  6  7 11]\n",
            "a3 = [[11  2  3]\n",
            " [ 4  5 16]\n",
            " [17  8  9]\n",
            " [10 21 12]]\n",
            "Boolean array indexing:\n",
            "a = [[1 2]\n",
            " [3 4]\n",
            " [5 6]]\n",
            "Elements greater than 2: [3 4 5 6]\n"
          ]
        }
      ]
    },
    {
      "cell_type": "code",
      "source": [
        "from numpy import array\n",
        "from scipy.linalg import svd\n",
        "\n",
        "A = array([[1, 2], [3, 4], [5, 6]])\n",
        "U, s, VT = svd(A)\n",
        "\n",
        "print(\"A =\", A)\n",
        "print(\"Shape of array A:\", A.shape)\n",
        "print(\"\")\n",
        "print(\"U =\", U)\n",
        "print(\"Shape of matrix U:\", U.shape)\n",
        "print(\"\")\n",
        "print(\"Sigma (diagonal matrix), s =\", s)\n",
        "print(\"Shape of matrix sigma:\", s.shape)\n",
        "print(\"\")\n",
        "print(\"Transpose Matrix, VT =\", VT)\n",
        "print(\"Shape of matrix VT:\", VT.shape)"
      ],
      "metadata": {
        "colab": {
          "base_uri": "https://localhost:8080/"
        },
        "id": "IwuROATg-tnF",
        "outputId": "40d07bd0-17b0-4656-df65-3454e7c7cb6d"
      },
      "execution_count": 5,
      "outputs": [
        {
          "output_type": "stream",
          "name": "stdout",
          "text": [
            "A = [[1 2]\n",
            " [3 4]\n",
            " [5 6]]\n",
            "Shape of array A: (3, 2)\n",
            "\n",
            "U = [[-0.2298477   0.88346102  0.40824829]\n",
            " [-0.52474482  0.24078249 -0.81649658]\n",
            " [-0.81964194 -0.40189603  0.40824829]]\n",
            "Shape of matrix U: (3, 3)\n",
            "\n",
            "Sigma (diagonal matrix), s = [9.52551809 0.51430058]\n",
            "Shape of matrix sigma: (2,)\n",
            "\n",
            "Transpose Matrix, VT = [[-0.61962948 -0.78489445]\n",
            " [-0.78489445  0.61962948]]\n",
            "Shape of matrix VT: (2, 2)\n"
          ]
        }
      ]
    },
    {
      "cell_type": "code",
      "source": [
        "from numpy import array, diag, dot, zeros\n",
        "from scipy.linalg import svd\n",
        "\n",
        "A = array([[1, 2], [3, 4], [5, 6]])\n",
        "print(\"A = \", A)\n",
        "print(A.shape)\n",
        "\n",
        "U, s, VT = svd(A)\n",
        "print(\"U =\", U)\n",
        "print(U.shape)\n",
        "print(\"s = \", s)\n",
        "print(s.shape)\n",
        "print(\"VT = \", VT)\n",
        "print(VT.shape)\n",
        "\n",
        "sigma = zeros((A.shape[0], A.shape[1]))\n",
        "sigma[:A.shape[1], :A.shape[1]] = diag(s)\n",
        "B = U.dot(sigma.dot(VT))\n",
        "print(\"Reconstructed matrix: \", B)"
      ],
      "metadata": {
        "colab": {
          "base_uri": "https://localhost:8080/"
        },
        "id": "iJzWC6gH_68r",
        "outputId": "40eb5d00-6cc6-498f-9153-219e3ce9d2fe"
      },
      "execution_count": 6,
      "outputs": [
        {
          "output_type": "stream",
          "name": "stdout",
          "text": [
            "A =  [[1 2]\n",
            " [3 4]\n",
            " [5 6]]\n",
            "(3, 2)\n",
            "U = [[-0.2298477   0.88346102  0.40824829]\n",
            " [-0.52474482  0.24078249 -0.81649658]\n",
            " [-0.81964194 -0.40189603  0.40824829]]\n",
            "(3, 3)\n",
            "s =  [9.52551809 0.51430058]\n",
            "(2,)\n",
            "VT =  [[-0.61962948 -0.78489445]\n",
            " [-0.78489445  0.61962948]]\n",
            "(2, 2)\n",
            "Reconstructed matrix:  [[1. 2.]\n",
            " [3. 4.]\n",
            " [5. 6.]]\n"
          ]
        }
      ]
    },
    {
      "cell_type": "code",
      "source": [
        "from numpy import array, diag, zeros\n",
        "from scipy.linalg import pinv\n",
        "from numpy.linalg import svd\n",
        "\n",
        "A = array([[1, 2], [3, 4], [5, 6]])\n",
        "\n",
        "print(\"Pseudoinverse of matrix A calculated by function pinv is:\")\n",
        "print(pinv(A))\n",
        "\n",
        "U, s, VT = svd(A)\n",
        "d = 1.0 / s\n",
        "D = zeros(A.shape)\n",
        "D[:A.shape[1], :A.shape[1]] = diag(d)\n",
        "B = VT.T.dot(D.T).dot(U.T)\n",
        "\n",
        "print(\"Pseudoinverse of matrix A calculated by using svd is:\")\n",
        "print(B)"
      ],
      "metadata": {
        "colab": {
          "base_uri": "https://localhost:8080/"
        },
        "id": "MWVrxBrzBNC0",
        "outputId": "4cf4421e-9283-4bc4-92ac-814a05216d09"
      },
      "execution_count": 7,
      "outputs": [
        {
          "output_type": "stream",
          "name": "stdout",
          "text": [
            "Pseudoinverse of matrix A calculated by function pinv is:\n",
            "[[-1.33333333 -0.33333333  0.66666667]\n",
            " [ 1.08333333  0.33333333 -0.41666667]]\n",
            "Pseudoinverse of matrix A calculated by using svd is:\n",
            "[[-1.33333333 -0.33333333  0.66666667]\n",
            " [ 1.08333333  0.33333333 -0.41666667]]\n"
          ]
        }
      ]
    },
    {
      "cell_type": "code",
      "source": [],
      "metadata": {
        "id": "6y3eWBpFDaPD"
      },
      "execution_count": null,
      "outputs": []
    },
    {
      "cell_type": "code",
      "source": [
        "from os import truncate\n",
        "from numpy import array\n",
        "from scipy.linalg import svd\n",
        "from sklearn.decomposition import TruncatedSVD\n",
        "A = array([[1, 2,3,4,5,6,7,8,9,10], [11,12,13,14,15,16,17,18,19,20], [21,22,23,24,25,26,27,28,29,30]])\n",
        "\n",
        "print(\"A =\", A)\n",
        "print(\" \")\n",
        "U, s, VT = svd(A)\n",
        "sigma = zeros((A.shape[0], A.shape[1]))\n",
        "sigma[:A.shape[0],:A.shape[0]] =diag(s)\n",
        "sigma=sigma[:,:2]\n",
        "VT=VT[:2,:]\n",
        "T=U.dot(sigma)\n",
        "T=A.dot(VT.T)\n",
        "print(\"Transpose of original matrix using svd is\")\n",
        "print(T)\n",
        "print(\" \")\n",
        "svd=TruncatedSVD(2)\n",
        "svd.fit(A)\n",
        "result=svd.transform(A)\n",
        "print(\"transformed version:\")\n",
        "print(result)"
      ],
      "metadata": {
        "colab": {
          "base_uri": "https://localhost:8080/"
        },
        "outputId": "7e42a7ae-171e-41ce-8be4-0a0d7271e1b0",
        "id": "gxY1ohHWDbdE"
      },
      "execution_count": 16,
      "outputs": [
        {
          "output_type": "stream",
          "name": "stdout",
          "text": [
            "A = [[ 1  2  3  4  5  6  7  8  9 10]\n",
            " [11 12 13 14 15 16 17 18 19 20]\n",
            " [21 22 23 24 25 26 27 28 29 30]]\n",
            " \n",
            "Transpose of original matrix using svd is\n",
            "[[-18.52157747   6.47697214]\n",
            " [-49.81310011   1.91182038]\n",
            " [-81.10462276  -2.65333138]]\n",
            " \n",
            "transformed version:\n",
            "[[18.52157747  6.47697214]\n",
            " [49.81310011  1.91182038]\n",
            " [81.10462276 -2.65333138]]\n"
          ]
        }
      ]
    },
    {
      "cell_type": "code",
      "source": [
        "import numpy as np\n",
        "\n",
        "a = np.array([1, 2,3])\n",
        "print(\"one dimensional array a=\",a)\n",
        "b = np.array([[1,2,3], [4,5,6]])\n",
        "print(\"two dimensional array b=\",b)\n",
        "print(\"size of the array\",a.shape)\n",
        "a[0]=5\n",
        "print(\"array after changing the element at index  at 0\",a)\n",
        "a=np.zeros((2,2))\n",
        "print(\"all the zeroes\",a)\n",
        "b=np.ones((1,2))\n",
        "print(\"all the ones\",b)\n",
        "c=np.full((2,2),7)\n",
        "print(\"A constant array :\",c)\n",
        "d=np.eye(2)\n",
        "print(\"A 2*2 identity matrix :\",a)\n",
        "e=np.random.random((2,2))\n",
        "print(\"Array with random values\",e)\n"
      ],
      "metadata": {
        "colab": {
          "base_uri": "https://localhost:8080/"
        },
        "id": "sraE7bDFI5Uz",
        "outputId": "38a1abd5-8ea2-40a8-9a27-5f7f9e55f669"
      },
      "execution_count": 19,
      "outputs": [
        {
          "output_type": "stream",
          "name": "stdout",
          "text": [
            "one dimensional array a= [1 2 3]\n",
            "two dimensional array b= [[1 2 3]\n",
            " [4 5 6]]\n",
            "size of the array (3,)\n",
            "array after changing the element at index  at 0 [5 2 3]\n",
            "all the zeroes [[0. 0.]\n",
            " [0. 0.]]\n",
            "all the ones [[1. 1.]]\n",
            "A constant array : [[7 7]\n",
            " [7 7]]\n",
            "A 2*2 identity matrix : [[0. 0.]\n",
            " [0. 0.]]\n",
            "Array with random values [[0.86561296 0.07487349]\n",
            " [0.37726498 0.03259872]]\n"
          ]
        }
      ]
    }
  ]
}